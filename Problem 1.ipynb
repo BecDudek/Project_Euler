{
 "cells": [
  {
   "cell_type": "markdown",
   "id": "4cca4f11",
   "metadata": {},
   "source": [
    "## Project Euler Problem 1"
   ]
  },
  {
   "cell_type": "markdown",
   "id": "6901cdad",
   "metadata": {},
   "source": [
    "If we list all the natural numbers below 10 that are multiples of 3 or 5, we get 3, 5, 6 and 9. The sum of these multiples is 23.\n",
    "\n",
    "Find the sum of all the multiples of 3 or 5 below 1000."
   ]
  },
  {
   "cell_type": "code",
   "execution_count": 3,
   "id": "7f7494bc",
   "metadata": {},
   "outputs": [
    {
     "data": {
      "text/plain": [
       "233168"
      ]
     },
     "execution_count": 3,
     "metadata": {},
     "output_type": "execute_result"
    }
   ],
   "source": [
    "#First find the multiples of 3 or 5\n",
    "summy=[]\n",
    "for i in range(1, 334):\n",
    "    if 3*i<1000:\n",
    "        summy.append(3*i)\n",
    "        \n",
    "        \n",
    "    if 5*i<1000:\n",
    "        summy.append(5*i)\n",
    "#print(sum)        \n",
    "        \n",
    "sum_set = set(summy)\n",
    "#print(sum_set) \n",
    "answer = sum(sum_set)\n",
    "answer\n"
   ]
  },
  {
   "cell_type": "code",
   "execution_count": null,
   "id": "a78abe67",
   "metadata": {},
   "outputs": [],
   "source": []
  }
 ],
 "metadata": {
  "kernelspec": {
   "display_name": "Python 3 (ipykernel)",
   "language": "python",
   "name": "python3"
  },
  "language_info": {
   "codemirror_mode": {
    "name": "ipython",
    "version": 3
   },
   "file_extension": ".py",
   "mimetype": "text/x-python",
   "name": "python",
   "nbconvert_exporter": "python",
   "pygments_lexer": "ipython3",
   "version": "3.9.12"
  }
 },
 "nbformat": 4,
 "nbformat_minor": 5
}
